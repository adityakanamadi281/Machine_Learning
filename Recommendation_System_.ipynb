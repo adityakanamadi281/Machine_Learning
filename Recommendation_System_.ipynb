{
  "nbformat": 4,
  "nbformat_minor": 0,
  "metadata": {
    "colab": {
      "provenance": []
    },
    "kernelspec": {
      "name": "python3",
      "display_name": "Python 3"
    },
    "language_info": {
      "name": "python"
    }
  },
  "cells": [
    {
      "cell_type": "markdown",
      "source": [
        "# Recommendation System\n",
        "\n",
        "## Objective:\n",
        "* The objective of this assignment is to implement a recommendation system using cosine similarity on an anime dataset.\n",
        "\n",
        "## Dataset:\n",
        "* Use the Anime Dataset which contains information about various anime, including their titles, genres,No.of episodes and user ratings etc.\n",
        "\n",
        "## Tasks:\n",
        "\n",
        "Data Preprocessing:\n",
        "\n",
        "* Load the dataset into a suitable data structure (e.g., pandas DataFrame).\n",
        "Handle missing values, if any.\n",
        "* Explore the dataset to understand its structure and attributes.\n",
        "\n",
        "Feature Extraction:\n",
        "\n",
        "* Decide on the features that will be used for computing similarity (e.g., genres, user ratings).\n",
        "* Convert categorical features into numerical representations if necessary.\n",
        "Normalize numerical features if required.\n",
        "\n",
        "Recommendation System:\n",
        "\n",
        "* Design a function to recommend anime based on cosine similarity.\n",
        "* Given a target anime, recommend a list of similar anime based on cosine similarity scores.\n",
        "* Experiment with different threshold values for similarity scores to adjust the recommendation list size.\n",
        "\n",
        "Evaluation:\n",
        "\n",
        "* Split the dataset into training and testing sets.\n",
        "* Evaluate the recommendation system using appropriate metrics such as precision, recall, and F1-score.\n",
        "* Analyze the performance of the recommendation system and identify areas of improvement.\n",
        "\n",
        "Interview Questions:\n",
        "1. Can you explain the difference between user-based and item-based collaborative filtering?\n",
        "2. What is collaborative filtering, and how does it work?"
      ],
      "metadata": {
        "id": "B8ZNlMax2jv-"
      }
    },
    {
      "cell_type": "code",
      "source": [
        "import pandas as pd\n",
        "import numpy as np\n",
        "import matplotlib.pyplot as plt\n",
        "import seaborn as sns\n",
        "from sklearn.metrics.pairwise import cosine_similarity\n",
        "from sklearn.feature_extraction.text import TfidfVectorizer\n",
        "\n",
        "import warnings\n",
        "warnings.filterwarnings('ignore')"
      ],
      "metadata": {
        "id": "84NMFA1r2qUE"
      },
      "execution_count": 82,
      "outputs": []
    },
    {
      "cell_type": "markdown",
      "source": [
        "## 1. Data Preprocessing"
      ],
      "metadata": {
        "id": "6W0pUUg5x021"
      }
    },
    {
      "cell_type": "code",
      "source": [
        "# Load the dataset\n",
        "anime_df = pd.read_csv('/content/anime.csv')\n",
        "anime_df.head()"
      ],
      "metadata": {
        "colab": {
          "base_uri": "https://localhost:8080/",
          "height": 206
        },
        "id": "HDepz1Si20VP",
        "outputId": "5f1717c0-6b67-4228-9f7c-617ad7da599e"
      },
      "execution_count": 31,
      "outputs": [
        {
          "output_type": "execute_result",
          "data": {
            "text/plain": [
              "   anime_id                              name  \\\n",
              "0     32281                    Kimi no Na wa.   \n",
              "1      5114  Fullmetal Alchemist: Brotherhood   \n",
              "2     28977                          Gintama°   \n",
              "3      9253                       Steins;Gate   \n",
              "4      9969                     Gintama&#039;   \n",
              "\n",
              "                                               genre   type episodes  rating  \\\n",
              "0               Drama, Romance, School, Supernatural  Movie        1    9.37   \n",
              "1  Action, Adventure, Drama, Fantasy, Magic, Mili...     TV       64    9.26   \n",
              "2  Action, Comedy, Historical, Parody, Samurai, S...     TV       51    9.25   \n",
              "3                                   Sci-Fi, Thriller     TV       24    9.17   \n",
              "4  Action, Comedy, Historical, Parody, Samurai, S...     TV       51    9.16   \n",
              "\n",
              "   members  \n",
              "0   200630  \n",
              "1   793665  \n",
              "2   114262  \n",
              "3   673572  \n",
              "4   151266  "
            ],
            "text/html": [
              "\n",
              "  <div id=\"df-18328ebb-ef68-4476-8713-a62e40d2b3c8\" class=\"colab-df-container\">\n",
              "    <div>\n",
              "<style scoped>\n",
              "    .dataframe tbody tr th:only-of-type {\n",
              "        vertical-align: middle;\n",
              "    }\n",
              "\n",
              "    .dataframe tbody tr th {\n",
              "        vertical-align: top;\n",
              "    }\n",
              "\n",
              "    .dataframe thead th {\n",
              "        text-align: right;\n",
              "    }\n",
              "</style>\n",
              "<table border=\"1\" class=\"dataframe\">\n",
              "  <thead>\n",
              "    <tr style=\"text-align: right;\">\n",
              "      <th></th>\n",
              "      <th>anime_id</th>\n",
              "      <th>name</th>\n",
              "      <th>genre</th>\n",
              "      <th>type</th>\n",
              "      <th>episodes</th>\n",
              "      <th>rating</th>\n",
              "      <th>members</th>\n",
              "    </tr>\n",
              "  </thead>\n",
              "  <tbody>\n",
              "    <tr>\n",
              "      <th>0</th>\n",
              "      <td>32281</td>\n",
              "      <td>Kimi no Na wa.</td>\n",
              "      <td>Drama, Romance, School, Supernatural</td>\n",
              "      <td>Movie</td>\n",
              "      <td>1</td>\n",
              "      <td>9.37</td>\n",
              "      <td>200630</td>\n",
              "    </tr>\n",
              "    <tr>\n",
              "      <th>1</th>\n",
              "      <td>5114</td>\n",
              "      <td>Fullmetal Alchemist: Brotherhood</td>\n",
              "      <td>Action, Adventure, Drama, Fantasy, Magic, Mili...</td>\n",
              "      <td>TV</td>\n",
              "      <td>64</td>\n",
              "      <td>9.26</td>\n",
              "      <td>793665</td>\n",
              "    </tr>\n",
              "    <tr>\n",
              "      <th>2</th>\n",
              "      <td>28977</td>\n",
              "      <td>Gintama°</td>\n",
              "      <td>Action, Comedy, Historical, Parody, Samurai, S...</td>\n",
              "      <td>TV</td>\n",
              "      <td>51</td>\n",
              "      <td>9.25</td>\n",
              "      <td>114262</td>\n",
              "    </tr>\n",
              "    <tr>\n",
              "      <th>3</th>\n",
              "      <td>9253</td>\n",
              "      <td>Steins;Gate</td>\n",
              "      <td>Sci-Fi, Thriller</td>\n",
              "      <td>TV</td>\n",
              "      <td>24</td>\n",
              "      <td>9.17</td>\n",
              "      <td>673572</td>\n",
              "    </tr>\n",
              "    <tr>\n",
              "      <th>4</th>\n",
              "      <td>9969</td>\n",
              "      <td>Gintama&amp;#039;</td>\n",
              "      <td>Action, Comedy, Historical, Parody, Samurai, S...</td>\n",
              "      <td>TV</td>\n",
              "      <td>51</td>\n",
              "      <td>9.16</td>\n",
              "      <td>151266</td>\n",
              "    </tr>\n",
              "  </tbody>\n",
              "</table>\n",
              "</div>\n",
              "    <div class=\"colab-df-buttons\">\n",
              "\n",
              "  <div class=\"colab-df-container\">\n",
              "    <button class=\"colab-df-convert\" onclick=\"convertToInteractive('df-18328ebb-ef68-4476-8713-a62e40d2b3c8')\"\n",
              "            title=\"Convert this dataframe to an interactive table.\"\n",
              "            style=\"display:none;\">\n",
              "\n",
              "  <svg xmlns=\"http://www.w3.org/2000/svg\" height=\"24px\" viewBox=\"0 -960 960 960\">\n",
              "    <path d=\"M120-120v-720h720v720H120Zm60-500h600v-160H180v160Zm220 220h160v-160H400v160Zm0 220h160v-160H400v160ZM180-400h160v-160H180v160Zm440 0h160v-160H620v160ZM180-180h160v-160H180v160Zm440 0h160v-160H620v160Z\"/>\n",
              "  </svg>\n",
              "    </button>\n",
              "\n",
              "  <style>\n",
              "    .colab-df-container {\n",
              "      display:flex;\n",
              "      gap: 12px;\n",
              "    }\n",
              "\n",
              "    .colab-df-convert {\n",
              "      background-color: #E8F0FE;\n",
              "      border: none;\n",
              "      border-radius: 50%;\n",
              "      cursor: pointer;\n",
              "      display: none;\n",
              "      fill: #1967D2;\n",
              "      height: 32px;\n",
              "      padding: 0 0 0 0;\n",
              "      width: 32px;\n",
              "    }\n",
              "\n",
              "    .colab-df-convert:hover {\n",
              "      background-color: #E2EBFA;\n",
              "      box-shadow: 0px 1px 2px rgba(60, 64, 67, 0.3), 0px 1px 3px 1px rgba(60, 64, 67, 0.15);\n",
              "      fill: #174EA6;\n",
              "    }\n",
              "\n",
              "    .colab-df-buttons div {\n",
              "      margin-bottom: 4px;\n",
              "    }\n",
              "\n",
              "    [theme=dark] .colab-df-convert {\n",
              "      background-color: #3B4455;\n",
              "      fill: #D2E3FC;\n",
              "    }\n",
              "\n",
              "    [theme=dark] .colab-df-convert:hover {\n",
              "      background-color: #434B5C;\n",
              "      box-shadow: 0px 1px 3px 1px rgba(0, 0, 0, 0.15);\n",
              "      filter: drop-shadow(0px 1px 2px rgba(0, 0, 0, 0.3));\n",
              "      fill: #FFFFFF;\n",
              "    }\n",
              "  </style>\n",
              "\n",
              "    <script>\n",
              "      const buttonEl =\n",
              "        document.querySelector('#df-18328ebb-ef68-4476-8713-a62e40d2b3c8 button.colab-df-convert');\n",
              "      buttonEl.style.display =\n",
              "        google.colab.kernel.accessAllowed ? 'block' : 'none';\n",
              "\n",
              "      async function convertToInteractive(key) {\n",
              "        const element = document.querySelector('#df-18328ebb-ef68-4476-8713-a62e40d2b3c8');\n",
              "        const dataTable =\n",
              "          await google.colab.kernel.invokeFunction('convertToInteractive',\n",
              "                                                    [key], {});\n",
              "        if (!dataTable) return;\n",
              "\n",
              "        const docLinkHtml = 'Like what you see? Visit the ' +\n",
              "          '<a target=\"_blank\" href=https://colab.research.google.com/notebooks/data_table.ipynb>data table notebook</a>'\n",
              "          + ' to learn more about interactive tables.';\n",
              "        element.innerHTML = '';\n",
              "        dataTable['output_type'] = 'display_data';\n",
              "        await google.colab.output.renderOutput(dataTable, element);\n",
              "        const docLink = document.createElement('div');\n",
              "        docLink.innerHTML = docLinkHtml;\n",
              "        element.appendChild(docLink);\n",
              "      }\n",
              "    </script>\n",
              "  </div>\n",
              "\n",
              "\n",
              "<div id=\"df-6f8d3ea0-ac4c-4815-ba40-227dcbfc29f5\">\n",
              "  <button class=\"colab-df-quickchart\" onclick=\"quickchart('df-6f8d3ea0-ac4c-4815-ba40-227dcbfc29f5')\"\n",
              "            title=\"Suggest charts\"\n",
              "            style=\"display:none;\">\n",
              "\n",
              "<svg xmlns=\"http://www.w3.org/2000/svg\" height=\"24px\"viewBox=\"0 0 24 24\"\n",
              "     width=\"24px\">\n",
              "    <g>\n",
              "        <path d=\"M19 3H5c-1.1 0-2 .9-2 2v14c0 1.1.9 2 2 2h14c1.1 0 2-.9 2-2V5c0-1.1-.9-2-2-2zM9 17H7v-7h2v7zm4 0h-2V7h2v10zm4 0h-2v-4h2v4z\"/>\n",
              "    </g>\n",
              "</svg>\n",
              "  </button>\n",
              "\n",
              "<style>\n",
              "  .colab-df-quickchart {\n",
              "      --bg-color: #E8F0FE;\n",
              "      --fill-color: #1967D2;\n",
              "      --hover-bg-color: #E2EBFA;\n",
              "      --hover-fill-color: #174EA6;\n",
              "      --disabled-fill-color: #AAA;\n",
              "      --disabled-bg-color: #DDD;\n",
              "  }\n",
              "\n",
              "  [theme=dark] .colab-df-quickchart {\n",
              "      --bg-color: #3B4455;\n",
              "      --fill-color: #D2E3FC;\n",
              "      --hover-bg-color: #434B5C;\n",
              "      --hover-fill-color: #FFFFFF;\n",
              "      --disabled-bg-color: #3B4455;\n",
              "      --disabled-fill-color: #666;\n",
              "  }\n",
              "\n",
              "  .colab-df-quickchart {\n",
              "    background-color: var(--bg-color);\n",
              "    border: none;\n",
              "    border-radius: 50%;\n",
              "    cursor: pointer;\n",
              "    display: none;\n",
              "    fill: var(--fill-color);\n",
              "    height: 32px;\n",
              "    padding: 0;\n",
              "    width: 32px;\n",
              "  }\n",
              "\n",
              "  .colab-df-quickchart:hover {\n",
              "    background-color: var(--hover-bg-color);\n",
              "    box-shadow: 0 1px 2px rgba(60, 64, 67, 0.3), 0 1px 3px 1px rgba(60, 64, 67, 0.15);\n",
              "    fill: var(--button-hover-fill-color);\n",
              "  }\n",
              "\n",
              "  .colab-df-quickchart-complete:disabled,\n",
              "  .colab-df-quickchart-complete:disabled:hover {\n",
              "    background-color: var(--disabled-bg-color);\n",
              "    fill: var(--disabled-fill-color);\n",
              "    box-shadow: none;\n",
              "  }\n",
              "\n",
              "  .colab-df-spinner {\n",
              "    border: 2px solid var(--fill-color);\n",
              "    border-color: transparent;\n",
              "    border-bottom-color: var(--fill-color);\n",
              "    animation:\n",
              "      spin 1s steps(1) infinite;\n",
              "  }\n",
              "\n",
              "  @keyframes spin {\n",
              "    0% {\n",
              "      border-color: transparent;\n",
              "      border-bottom-color: var(--fill-color);\n",
              "      border-left-color: var(--fill-color);\n",
              "    }\n",
              "    20% {\n",
              "      border-color: transparent;\n",
              "      border-left-color: var(--fill-color);\n",
              "      border-top-color: var(--fill-color);\n",
              "    }\n",
              "    30% {\n",
              "      border-color: transparent;\n",
              "      border-left-color: var(--fill-color);\n",
              "      border-top-color: var(--fill-color);\n",
              "      border-right-color: var(--fill-color);\n",
              "    }\n",
              "    40% {\n",
              "      border-color: transparent;\n",
              "      border-right-color: var(--fill-color);\n",
              "      border-top-color: var(--fill-color);\n",
              "    }\n",
              "    60% {\n",
              "      border-color: transparent;\n",
              "      border-right-color: var(--fill-color);\n",
              "    }\n",
              "    80% {\n",
              "      border-color: transparent;\n",
              "      border-right-color: var(--fill-color);\n",
              "      border-bottom-color: var(--fill-color);\n",
              "    }\n",
              "    90% {\n",
              "      border-color: transparent;\n",
              "      border-bottom-color: var(--fill-color);\n",
              "    }\n",
              "  }\n",
              "</style>\n",
              "\n",
              "  <script>\n",
              "    async function quickchart(key) {\n",
              "      const quickchartButtonEl =\n",
              "        document.querySelector('#' + key + ' button');\n",
              "      quickchartButtonEl.disabled = true;  // To prevent multiple clicks.\n",
              "      quickchartButtonEl.classList.add('colab-df-spinner');\n",
              "      try {\n",
              "        const charts = await google.colab.kernel.invokeFunction(\n",
              "            'suggestCharts', [key], {});\n",
              "      } catch (error) {\n",
              "        console.error('Error during call to suggestCharts:', error);\n",
              "      }\n",
              "      quickchartButtonEl.classList.remove('colab-df-spinner');\n",
              "      quickchartButtonEl.classList.add('colab-df-quickchart-complete');\n",
              "    }\n",
              "    (() => {\n",
              "      let quickchartButtonEl =\n",
              "        document.querySelector('#df-6f8d3ea0-ac4c-4815-ba40-227dcbfc29f5 button');\n",
              "      quickchartButtonEl.style.display =\n",
              "        google.colab.kernel.accessAllowed ? 'block' : 'none';\n",
              "    })();\n",
              "  </script>\n",
              "</div>\n",
              "\n",
              "    </div>\n",
              "  </div>\n"
            ],
            "application/vnd.google.colaboratory.intrinsic+json": {
              "type": "dataframe",
              "variable_name": "anime_df",
              "summary": "{\n  \"name\": \"anime_df\",\n  \"rows\": 12294,\n  \"fields\": [\n    {\n      \"column\": \"anime_id\",\n      \"properties\": {\n        \"dtype\": \"number\",\n        \"std\": 11455,\n        \"min\": 1,\n        \"max\": 34527,\n        \"num_unique_values\": 12294,\n        \"samples\": [\n          17209,\n          173,\n          3616\n        ],\n        \"semantic_type\": \"\",\n        \"description\": \"\"\n      }\n    },\n    {\n      \"column\": \"name\",\n      \"properties\": {\n        \"dtype\": \"string\",\n        \"num_unique_values\": 12292,\n        \"samples\": [\n          \"Nils no Fushigi na Tabi (Movie)\",\n          \"Tactics\",\n          \"Kamen no Maid Guy\"\n        ],\n        \"semantic_type\": \"\",\n        \"description\": \"\"\n      }\n    },\n    {\n      \"column\": \"genre\",\n      \"properties\": {\n        \"dtype\": \"category\",\n        \"num_unique_values\": 3264,\n        \"samples\": [\n          \"Horror, Supernatural\",\n          \"Action, Adventure, Comedy, Demons, Fantasy, Magic, Romance, Shounen, Supernatural\",\n          \"Action, Comedy, Harem, Parody, Romance\"\n        ],\n        \"semantic_type\": \"\",\n        \"description\": \"\"\n      }\n    },\n    {\n      \"column\": \"type\",\n      \"properties\": {\n        \"dtype\": \"category\",\n        \"num_unique_values\": 6,\n        \"samples\": [\n          \"Movie\",\n          \"TV\",\n          \"ONA\"\n        ],\n        \"semantic_type\": \"\",\n        \"description\": \"\"\n      }\n    },\n    {\n      \"column\": \"episodes\",\n      \"properties\": {\n        \"dtype\": \"category\",\n        \"num_unique_values\": 187,\n        \"samples\": [\n          \"141\",\n          \"54\",\n          \"52\"\n        ],\n        \"semantic_type\": \"\",\n        \"description\": \"\"\n      }\n    },\n    {\n      \"column\": \"rating\",\n      \"properties\": {\n        \"dtype\": \"number\",\n        \"std\": 1.0267463068980598,\n        \"min\": 1.67,\n        \"max\": 10.0,\n        \"num_unique_values\": 598,\n        \"samples\": [\n          7.87,\n          6.11,\n          4.1\n        ],\n        \"semantic_type\": \"\",\n        \"description\": \"\"\n      }\n    },\n    {\n      \"column\": \"members\",\n      \"properties\": {\n        \"dtype\": \"number\",\n        \"std\": 54820,\n        \"min\": 5,\n        \"max\": 1013917,\n        \"num_unique_values\": 6706,\n        \"samples\": [\n          170754,\n          1515,\n          66376\n        ],\n        \"semantic_type\": \"\",\n        \"description\": \"\"\n      }\n    }\n  ]\n}"
            }
          },
          "metadata": {},
          "execution_count": 31
        }
      ]
    },
    {
      "cell_type": "code",
      "source": [
        "print(anime_df.shape)"
      ],
      "metadata": {
        "colab": {
          "base_uri": "https://localhost:8080/"
        },
        "id": "hf4PpqSMtM2Z",
        "outputId": "4134ceae-477a-42d4-9448-1510348a4a3e"
      },
      "execution_count": 6,
      "outputs": [
        {
          "output_type": "stream",
          "name": "stdout",
          "text": [
            "(12017, 7)\n"
          ]
        }
      ]
    },
    {
      "cell_type": "code",
      "source": [
        "print(anime_df.columns)"
      ],
      "metadata": {
        "colab": {
          "base_uri": "https://localhost:8080/"
        },
        "id": "fYDy7U5fyZE7",
        "outputId": "fb4b2173-835b-4bed-9e27-7b7fafc9f829"
      },
      "execution_count": 38,
      "outputs": [
        {
          "output_type": "stream",
          "name": "stdout",
          "text": [
            "Index(['anime_id', 'name', 'genre', 'type', 'episodes', 'rating', 'members'], dtype='object')\n"
          ]
        }
      ]
    },
    {
      "cell_type": "markdown",
      "source": [
        "Handle Missing Values"
      ],
      "metadata": {
        "id": "jn0EoetixpIc"
      }
    },
    {
      "cell_type": "code",
      "source": [
        "# Handle missing values in 'rating' by filling with the median\n",
        "anime_df['rating'].fillna(anime_df['rating'].median(), inplace=True)\n",
        "\n",
        "# Handle missing values in 'genre' by filling with 'Unknown'\n",
        "anime_df['genre'].fillna('Unknown', inplace=True)\n",
        "\n",
        "# Handle 'episodes' column: Replace 'Unknown' or '?' with 0 and convert to numeric\n",
        "anime_df['episodes'] = anime_df['episodes'].replace({'Unknown': 0, '?': 0}).astype(int)\n"
      ],
      "metadata": {
        "id": "XZYnyizdxoJQ"
      },
      "execution_count": 86,
      "outputs": []
    },
    {
      "cell_type": "code",
      "source": [
        "print(anime_df.info())  # View structure\n",
        "print(anime_df.describe())  # View summary statistics"
      ],
      "metadata": {
        "colab": {
          "base_uri": "https://localhost:8080/"
        },
        "id": "fyaajLRy7E7s",
        "outputId": "4f700b29-06e7-456c-8143-999b51284982"
      },
      "execution_count": 87,
      "outputs": [
        {
          "output_type": "stream",
          "name": "stdout",
          "text": [
            "<class 'pandas.core.frame.DataFrame'>\n",
            "Index: 12017 entries, 0 to 12293\n",
            "Data columns (total 7 columns):\n",
            " #   Column    Non-Null Count  Dtype  \n",
            "---  ------    --------------  -----  \n",
            " 0   anime_id  12017 non-null  int64  \n",
            " 1   name      12017 non-null  object \n",
            " 2   genre     12017 non-null  object \n",
            " 3   type      12017 non-null  object \n",
            " 4   episodes  12017 non-null  int64  \n",
            " 5   rating    12017 non-null  float64\n",
            " 6   members   12017 non-null  float64\n",
            "dtypes: float64(2), int64(2), object(3)\n",
            "memory usage: 751.1+ KB\n",
            "None\n",
            "           anime_id      episodes        rating       members\n",
            "count  12017.000000  12017.000000  1.201700e+04  1.201700e+04\n",
            "mean   13638.001165     12.292419  3.784200e-17  5.676300e-17\n",
            "std    11231.076675     46.754770  1.000042e+00  1.000042e+00\n",
            "min        1.000000      0.000000 -4.696423e+00 -3.311688e-01\n",
            "25%     3391.000000      1.000000 -5.745810e-01 -3.273219e-01\n",
            "50%     9959.000000      2.000000  8.960208e-02 -3.033560e-01\n",
            "75%    23729.000000     12.000000  6.854134e-01 -1.582237e-01\n",
            "max    34519.000000   1818.000000  3.439820e+00  1.798022e+01\n"
          ]
        }
      ]
    },
    {
      "cell_type": "markdown",
      "source": [
        "## 2: Feature Extraction"
      ],
      "metadata": {
        "id": "APtkJJvw7Hoz"
      }
    },
    {
      "cell_type": "code",
      "source": [
        "# Convert 'genre' column into one-hot encoded features\n",
        "genres_one_hot = anime_df['genre'].str.get_dummies(sep=', ')\n",
        "\n",
        "# Concatenate the one-hot encoded genres with the original dataframe\n",
        "anime_df_clean = pd.concat([anime_df, genres_one_hot], axis=1)\n",
        "\n",
        "# Drop unnecessary columns ('anime_id', 'name', 'genre', 'type')\n",
        "anime_df_clean = anime_df_clean.drop(columns=['anime_id', 'name', 'genre', 'type'])\n",
        "\n",
        "# Normalize numerical features (rating and members)\n",
        "from sklearn.preprocessing import MinMaxScaler\n",
        "scaler = MinMaxScaler()\n",
        "anime_df_clean[['rating', 'members']] = scaler.fit_transform(anime_df_clean[['rating', 'members']])\n",
        "\n",
        "print(anime_df_clean.head())\n"
      ],
      "metadata": {
        "colab": {
          "base_uri": "https://localhost:8080/"
        },
        "id": "7N5kT0m0yXXF",
        "outputId": "98f963a7-c070-47ba-b740-74aacfac90ab"
      },
      "execution_count": 88,
      "outputs": [
        {
          "output_type": "stream",
          "name": "stdout",
          "text": [
            "   episodes    rating   members  Action  Adventure  Cars  Comedy  Dementia  \\\n",
            "0         1  0.924370  0.197867       0          0     0       0         0   \n",
            "1        64  0.911164  0.782769       1          1     0       0         0   \n",
            "2        51  0.909964  0.112683       1          0     0       1         0   \n",
            "3        24  0.900360  0.664323       0          0     0       0         0   \n",
            "4        51  0.899160  0.149180       1          0     0       1         0   \n",
            "\n",
            "   Demons  Drama  ...  Shounen Ai  Slice of Life  Space  Sports  Super Power  \\\n",
            "0       0      1  ...           0              0      0       0            0   \n",
            "1       0      1  ...           0              0      0       0            0   \n",
            "2       0      0  ...           0              0      0       0            0   \n",
            "3       0      0  ...           0              0      0       0            0   \n",
            "4       0      0  ...           0              0      0       0            0   \n",
            "\n",
            "   Supernatural  Thriller  Vampire  Yaoi  Yuri  \n",
            "0             1         0        0     0     0  \n",
            "1             0         0        0     0     0  \n",
            "2             0         0        0     0     0  \n",
            "3             0         1        0     0     0  \n",
            "4             0         0        0     0     0  \n",
            "\n",
            "[5 rows x 46 columns]\n"
          ]
        }
      ]
    },
    {
      "cell_type": "markdown",
      "source": [
        "## 3. Recommendation System using Cosine Similarity"
      ],
      "metadata": {
        "id": "WYPm8LFB6tH0"
      }
    },
    {
      "cell_type": "code",
      "source": [
        "from sklearn.metrics.pairwise import cosine_similarity\n",
        "import numpy as np\n",
        "\n",
        "# Function to recommend anime based on a given anime title\n",
        "def recommend_anime_optimized(title, df, clean_df, top_n=5, sim_threshold=0.3):\n",
        "    # Get the index of the anime matching the title\n",
        "    idx = df[df['name'] == title].index[0]\n",
        "\n",
        "    # Get the features of the target anime\n",
        "    target_features = clean_df.iloc[idx].values.reshape(1, -1)\n",
        "\n",
        "    # Compute cosine similarity between target anime and all others\n",
        "    sim_scores = cosine_similarity(target_features, clean_df)[0]\n",
        "\n",
        "    # Apply similarity threshold\n",
        "    sim_scores = [(i, score) for i, score in enumerate(sim_scores) if score > sim_threshold]\n",
        "\n",
        "    # Sort the anime based on similarity scores\n",
        "    sim_scores = sorted(sim_scores, key=lambda x: x[1], reverse=True)[1:top_n+1]\n",
        "\n",
        "    # Get the indices of the top similar anime\n",
        "    anime_indices = [i[0] for i in sim_scores]\n",
        "\n",
        "    # Return the top N most similar anime\n",
        "    return df[['name', 'genre', 'rating']].iloc[anime_indices]\n",
        "\n"
      ],
      "metadata": {
        "id": "kwe9XlPQ7StX"
      },
      "execution_count": 90,
      "outputs": []
    },
    {
      "cell_type": "code",
      "source": [
        "# Example usage: Recommend anime similar to \"Kimi no Na wa.\"\n",
        "recommended_anime = recommend_anime_optimized('Kimi no Na wa.', anime_df, anime_df_clean, top_n=5)\n",
        "print(recommended_anime)"
      ],
      "metadata": {
        "colab": {
          "base_uri": "https://localhost:8080/"
        },
        "id": "d0Qpjxxn7WU2",
        "outputId": "cb797d4c-704f-4419-c1fb-63f3c0167c61"
      },
      "execution_count": 91,
      "outputs": [
        {
          "output_type": "stream",
          "name": "stdout",
          "text": [
            "                                                   name  \\\n",
            "1111              Aura: Maryuuin Kouga Saigo no Tatakai   \n",
            "504   Clannad: After Story - Mou Hitotsu no Sekai, K...   \n",
            "208                       Kokoro ga Sakebitagatterunda.   \n",
            "1201                     Angel Beats!: Another Epilogue   \n",
            "1494                                           Harmonie   \n",
            "\n",
            "                                             genre    rating  \n",
            "1111  Comedy, Drama, Romance, School, Supernatural  1.164016  \n",
            "504                         Drama, Romance, School  1.505875  \n",
            "208                         Drama, Romance, School  1.798897  \n",
            "1201                   Drama, School, Supernatural  1.124946  \n",
            "1494                   Drama, School, Supernatural  1.017505  \n"
          ]
        }
      ]
    },
    {
      "cell_type": "markdown",
      "source": [
        "## 4: Evaluation"
      ],
      "metadata": {
        "id": "5Z0IjMJz7cbB"
      }
    },
    {
      "cell_type": "code",
      "source": [
        "\n",
        "from sklearn.model_selection import train_test_split\n",
        "from sklearn.metrics import precision_score, recall_score, f1_score\n",
        "\n",
        "# Split the dataset into training and testing sets\n",
        "train_df, test_df = train_test_split(anime_df, test_size=0.2, random_state=42)\n",
        "\n",
        "# Function to get true positive recommendations based on a genre\n",
        "def get_true_positives(anime_title, test_df, recommended_anime):\n",
        "  true_genre = test_df[test_df['name'] == anime_title]['genre'].values[0]\n",
        "  tp_count = 0\n",
        "  for index, row in recommended_anime.iterrows():\n",
        "      if true_genre in row['genre']:\n",
        "          tp_count += 1\n",
        "  return tp_count\n",
        "\n",
        "\n",
        "# Evaluate the recommendation system\n",
        "precisions = []\n",
        "recalls = []\n",
        "f1_scores = []\n",
        "\n",
        "for index, row in test_df.iterrows():\n",
        "    anime_title = row['name']\n",
        "    try:\n",
        "      recommended_anime = recommend_anime_optimized(anime_title, anime_df, anime_df_clean)\n",
        "\n",
        "      true_positives = get_true_positives(anime_title, test_df, recommended_anime)\n",
        "      if len(recommended_anime) > 0:\n",
        "          precision = true_positives / len(recommended_anime) if len(recommended_anime) > 0 else 0\n",
        "          recall = true_positives / 1 if 1 > 0 else 0\n",
        "          f1 = 2 * (precision * recall) / (precision + recall) if (precision + recall) > 0 else 0\n",
        "\n",
        "          precisions.append(precision)\n",
        "          recalls.append(recall)\n",
        "          f1_scores.append(f1)\n",
        "\n",
        "    except IndexError:\n",
        "        pass\n",
        "\n",
        "\n",
        "# Calculate average precision, recall, and F1-score\n",
        "avg_precision = np.mean(precisions)\n",
        "avg_recall = np.mean(recalls)\n",
        "avg_f1 = np.mean(f1_scores)\n",
        "\n",
        "print(f\"Average Precision: {avg_precision}\")\n",
        "print(f\"Average Recall: {avg_recall}\")\n",
        "print(f\"Average F1-Score: {avg_f1}\")\n",
        "\n"
      ],
      "metadata": {
        "colab": {
          "base_uri": "https://localhost:8080/"
        },
        "id": "0OwD1_Dx7cEP",
        "outputId": "fae6ef54-4d4b-4e6a-f413-22d31ca7f897"
      },
      "execution_count": 94,
      "outputs": [
        {
          "output_type": "stream",
          "name": "stdout",
          "text": [
            "Average Precision: 0.19710391822827938\n",
            "Average Recall: 0.985519591141397\n",
            "Average F1-Score: 0.32850653038046573\n"
          ]
        }
      ]
    },
    {
      "cell_type": "markdown",
      "source": [
        "\n",
        "# Analysis of Performance and Areas of Improvement:\n",
        "\n",
        "## Based on the evaluation metrics (precision, recall, and F1-score), we can analyze the performance of the recommendation system.\n",
        "\n",
        "1. Precision:\n",
        "  * Precision indicates the proportion of recommended anime that are relevant.\n",
        "  *  A low precision score suggests that many recommended anime are not actually relevant to the target anime.\n",
        "\n",
        "2. Recall:\n",
        "  * Recall indicates the proportion of relevant anime that are actually recommended.\n",
        "  * A low recall score suggests that many relevant anime are not being captured in the recommendations.\n",
        "\n",
        "3. F1-Score:\n",
        "  * The F1-score is the harmonic mean of precision and recall. It provides a balanced measure of both precision and recall.\n",
        "\n",
        "# Areas for Improvement:\n",
        "\n",
        "1. Feature Engineering:\n",
        "   - We can improve the performance by exploring more features or considering different feature combinations.\n",
        "   - For example, we could include user ratings or textual descriptions of the anime in the analysis.\n",
        "  - We could also experiment with different weighting schemes for different features.\n",
        "\n",
        "2. Similarity Measures:\n",
        "   - We can try other similarity measures beyond cosine similarity, such as Pearson correlation or\n",
        "     Jaccard index, to explore whether they provide better results for this dataset.\n",
        "\n",
        "3. Handling Sparse Data:\n",
        "   - The dataset may have sparse data, where there are few ratings or interactions for some anime.\n",
        "   - We could employ techniques to address sparse data issues, such as matrix factorization or\n",
        "     collaborative filtering, to create better recommendations.\n",
        "\n",
        "4. Threshold Selection:\n",
        "   - The threshold value used for similarity scores can impact the number of recommendations.\n",
        "   - We can analyze how different threshold values affect precision and recall and fine-tune the threshold\n",
        "     to find the optimal balance.\n",
        "\n",
        "5. User-Specific Recommendations:\n",
        "   - The current recommendation system recommends anime based solely on the similarity between anime.\n",
        "   - We could personalize the recommendations by considering user preferences and past viewing\n",
        "     history to provide more relevant suggestions.\n",
        "\n",
        "In conclusion, the performance of the recommendation system can be further improved through advanced feature engineering, exploring alternative similarity measures, handling sparse data, and fine-tuning parameters such as similarity thresholds. The ultimate goal is to provide more accurate and relevant recommendations to users.\n"
      ],
      "metadata": {
        "id": "gHg7bQrB9lbD"
      }
    },
    {
      "cell_type": "code",
      "source": [],
      "metadata": {
        "id": "jd15KTuC9T9U"
      },
      "execution_count": 95,
      "outputs": []
    },
    {
      "cell_type": "markdown",
      "source": [
        "# Interview Questions\n",
        "\n",
        "## 1. Can you explain the difference between user-based and item-based collaborative filtering?\n",
        "\n",
        "- **User-based Collaborative Filtering**:\n",
        "   - In this method, we identify users with similar tastes or behaviors based on their past interactions (e.g., ratings, clicks).\n",
        "   - The idea is to recommend items that **similar users** have liked. For example, if user A and user B have a similar viewing history, a recommendation for user A would be based on items that user B has enjoyed but user A hasn't interacted with yet.\n",
        "   - **Example**: Netflix recommends a show to a user based on what other users with similar viewing patterns have watched.\n",
        "\n",
        "   - **Challenges**:\n",
        "     - This method can struggle with large datasets since there are usually far more users than items. It also faces problems with sparsity when there are too few overlapping users to make accurate recommendations.\n",
        "\n",
        "- **Item-based Collaborative Filtering**:\n",
        "   - In item-based filtering, we focus on the relationships between items. The algorithm finds items similar to those that the user has liked or interacted with and recommends those items.\n",
        "   - The similarity is based on how other users have rated or interacted with both items.\n",
        "   - **Example**: Amazon recommends a product similar to one you’ve bought or rated highly, based on how other users have interacted with both products.\n",
        "\n",
        "   - **Advantages**:\n",
        "     - Item-based collaborative filtering is often more scalable than user-based, especially for large datasets, since there are usually fewer items than users.\n",
        "     - Item relationships tend to be more stable over time than user preferences.\n",
        "\n",
        "---\n",
        "\n",
        "## 2. What is Collaborative Filtering, and How Does it Work?\n",
        "\n",
        "- **Collaborative Filtering**:\n",
        "   - Collaborative filtering is a technique used by recommendation systems to predict a user's interests by collecting preferences or interactions (e.g., ratings) from many users. The core idea is that users who agreed on past preferences will likely agree again in the future.\n",
        "   - This method is \"collaborative\" because it leverages the behavior of a community of users to make recommendations.\n",
        "\n",
        "- **How It Works**:\n",
        "   - Collaborative filtering works in two main ways: **user-based** and **item-based** (as described above). Both approaches use past interactions to recommend new items.\n",
        "   - The method can be summarized in three steps:\n",
        "     1. **Data Collection**: Gather interaction data, which can be implicit (clicks, views) or explicit (ratings, reviews).\n",
        "     2. **Similarity Calculation**: Determine the similarity between users (user-based) or items (item-based) using metrics like cosine similarity, Pearson correlation, or Jaccard similarity.\n",
        "     3. **Recommendation**: Use the similarity scores to suggest new items that a user is likely to be interested in, based on what similar users have interacted with (user-based) or similar items they have engaged with (item-based).\n",
        "\n",
        "- **Pros**:\n",
        "   - Can make accurate predictions even for unseen data by leveraging collective preferences.\n",
        "   - Doesn't require content-specific information about items (like metadata) since it's purely based on user-item interactions.\n",
        "\n",
        "- **Cons**:\n",
        "   - Suffers from the **cold start problem**: it struggles to recommend items to new users or when new items are introduced because there isn't enough interaction data.\n",
        "   - May struggle with **sparsity** if user interactions with items are low, leading to difficulty in finding sufficient similarities.\n",
        "\n",
        "---\n",
        "\n",
        "These methods are at the heart of many recommendation systems, powering platforms like Netflix, YouTube, and Amazon.\n"
      ],
      "metadata": {
        "id": "_Gg0QS_e-vU5"
      }
    }
  ]
}